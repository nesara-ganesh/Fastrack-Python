{
  "nbformat": 4,
  "nbformat_minor": 0,
  "metadata": {
    "colab": {
      "name": "H1.ipynb",
      "provenance": [],
      "collapsed_sections": [],
      "include_colab_link": true
    },
    "kernelspec": {
      "name": "python3",
      "display_name": "Python 3"
    },
    "language_info": {
      "name": "python"
    }
  },
  "cells": [
    {
      "cell_type": "markdown",
      "metadata": {
        "id": "view-in-github",
        "colab_type": "text"
      },
      "source": [
        "<a href=\"https://colab.research.google.com/github/nesara-ganesh/Fastrack-Python/blob/main/H1.ipynb\" target=\"_parent\"><img src=\"https://colab.research.google.com/assets/colab-badge.svg\" alt=\"Open In Colab\"/></a>"
      ]
    },
    {
      "cell_type": "markdown",
      "metadata": {
        "id": "crkwZf5SCyER"
      },
      "source": [
        "The main idea of this assignment is explore \n",
        "1.   Basic Operation \n",
        "           - print statement \n",
        "           - how to get help \n",
        "           - declare variables \n",
        "           - assign values\n",
        "2. Working with Integers \n",
        "           - operators \n",
        "           - functions \n",
        "3. Working with Strings \n",
        "           - operators \n",
        "           - functions \n",
        "4. Handling Errors \n",
        "           - Syntax \n",
        "           - Run Time \n",
        "           - Logical\n",
        "\n",
        "\n",
        "\n"
      ]
    },
    {
      "cell_type": "code",
      "metadata": {
        "id": "GPfG8zb3LBT5"
      },
      "source": [
        "# print your name \n",
        "\n",
        "print (\"Nesara G N\")\n",
        "\n",
        "# print your hobbies \n",
        "\n",
        "print (\"Chess, Cricket, Cooking\")\n",
        "\n",
        "# print your registration number\n",
        "\n",
        "print (\"211047005\")"
      ],
      "execution_count": null,
      "outputs": []
    },
    {
      "cell_type": "code",
      "metadata": {
        "id": "NYfLS3UvO14i"
      },
      "source": [
        "# how to get more information about print functions \n",
        "\n",
        "help(print)\n",
        "\n",
        "\n",
        "# how to get more infromation about math module \n",
        "import math\n",
        "help(math)\n",
        "\n",
        "\n",
        "# how to get more information about symbols \n",
        "\n",
        "help(sys)\n"
      ],
      "execution_count": null,
      "outputs": []
    },
    {
      "cell_type": "code",
      "metadata": {
        "id": "YmCpHvKVO5ud"
      },
      "source": [
        "# store your role model name in the variable \"role\"\n",
        "\n",
        "role = input(\"Enter your role model name.\\n\")\n",
        "\n",
        "# describe your role model in the variable \"role_desc\"\n",
        "\n",
        "role_desc = input (\"Describe your role model.\\n\")\n",
        "\n",
        "# store the numeric value in the variable \"my_values\"\n",
        "\n",
        "my_values = input (\"Enter a numeric value\")\n",
        "\n",
        "\n",
        "\n",
        "print (role)\n",
        "print (role_desc)\n",
        "print (my_values)"
      ],
      "execution_count": null,
      "outputs": []
    },
    {
      "cell_type": "code",
      "metadata": {
        "id": "Jkev_gH2T4w7"
      },
      "source": [
        "# you can perform arithemetic opeartions using python arithmetic opeartors \n",
        "# To perform arithmetic opeations \n",
        "# If your run a 1000 Kilo Meter race in 143 minutes 30 seconds, what is your average time per mile? What is your average speed in miles per hour? \n",
        "# Hint : 1.61 kilometers in a mile\n",
        "\n",
        "# distance covered in miles == kms / 1.61\n",
        "# average speed per mile = time / distance covered\n",
        "# average speed in mph = distance in miles / time in hours\n",
        "\n",
        "kms = 1000\n",
        "time_in_minutes = 143.5\n",
        "miles = kms / 1.61\n",
        "average_time_per_mile = time_in_minutes / miles\n",
        "average_mph = miles*60/time_in_minutes\n",
        "\n",
        "print (average_time_per_mile)\n",
        "print (average_mph)\n"
      ],
      "execution_count": null,
      "outputs": []
    },
    {
      "cell_type": "code",
      "metadata": {
        "id": "M0jRtr_pVDAO"
      },
      "source": [
        "# Suppose the cover price of a python book  is  577.95, but bookstores get a 40% discount.\n",
        "# Shipping costs  150 for the first copy and 50 Rupees for each additional copy. What is the total wholesale cost for 60 copies?\n",
        "\n",
        "# discount of 40% -> Price*(1-(discout/100))\n",
        "price = 577.95\n",
        "discount = 40\n",
        "price_after_discount = price * (1-discount/100)\n",
        "\n",
        "#Shipping cost = First copy shipping cost + (number of additional copies)(Additional copies shipping cost)\n",
        "number_of_copies = 60\n",
        "first_copy_shipping = 150\n",
        "additional_copy_shipping = 50\n",
        "shipping_cost = first_copy_shipping + (number_of_copies -1) * additional_copy_shipping\n",
        "\n",
        "# Total cost = (number of copies)(price after discount) + shipping cost\n",
        "total_cost = number_of_copies * price_after_discount + shipping_cost\n",
        "\n",
        "\n",
        "print (\"Price after discout per each copy: \", price_after_discount)\n",
        "print (\"\\nTotal Shipping cost: \", shipping_cost)\n",
        "print (\"\\nTotal cost: \", total_cost)"
      ],
      "execution_count": null,
      "outputs": []
    },
    {
      "cell_type": "code",
      "metadata": {
        "id": "_lQDsw9z6EKD"
      },
      "source": [
        "# write a python code to convert Centrigrade to Fahrenheit , get the value Centrigrade from the user. \n",
        "# Sample Input:\n",
        "# Enter Centrigrade:  23.5 \n",
        "\n",
        "centigrade = int (input(\"Enter the temperature in centigrade: \\n\"))\n",
        "fahrenheit = centigrade * 9 / 5 +32\n",
        "print(\"Temperature in Fahrenheit is: \", fahrenheit)\n"
      ],
      "execution_count": null,
      "outputs": []
    },
    {
      "cell_type": "code",
      "metadata": {
        "id": "U2jXh8GNDk3Q"
      },
      "source": [
        "# write a python code to convert Fahrenheit to Centrigrade, get the value Fahreheit from the user. \n",
        "# Sample Input:\n",
        "# Enter Fahreheit:  23.5 \n",
        "\n",
        "fah = int(input(\"Enter the temperature in Fahrenheit: \\n\"))\n",
        "celcius = (fah - 32) * (5 / 9)\n",
        "print (\"Temperature is Centigrade: \", celcius)"
      ],
      "execution_count": null,
      "outputs": []
    },
    {
      "cell_type": "code",
      "metadata": {
        "id": "UH0S-lJJFDQ0"
      },
      "source": [
        "# Write a python program of your choice which uses arithmetic operations (use both operators and functions ) with meaningful application \n",
        "\n",
        "import math\n",
        "\n",
        "radius = int (input(\"Enter the radius of the sphere: \\n\"))\n",
        "\n",
        "volume_of_sphere = (4 * math.pi * radius ** 3 )/ 3 \n",
        "\n",
        "print (volume_of_sphere)"
      ],
      "execution_count": null,
      "outputs": []
    },
    {
      "cell_type": "code",
      "metadata": {
        "id": "h18SMgbAG1AL"
      },
      "source": [
        "# create a variable called my_neg to store  negative value \n",
        "my_neg = int( input(\"Enter the negative number:\\n\"))\n",
        "\n",
        "\n",
        "# create a variable called my_float to store float value \n",
        "my_float = float (input(\"Enter the float value:\\n\"))\n",
        "\n",
        "# create a variable called my_complex to store complex value \n",
        "import cmath\n",
        "x = int(input (\"Real part of the complex number is: \\n\"))\n",
        "y = int(input (\"Imagiary part of the complex number is: \\n\"))\n",
        "a = complex(x,y)\n",
        "\n",
        "\n",
        "print (my_neg)\n",
        "print (my_float)\n",
        "print (a)\n",
        "# Note: there are various method to create complex numbers \n",
        "\n",
        "# perform mathematical operations on complex numbers\n",
        "\n",
        "# converting complex number into polar using polar()\n",
        "w = cmath.polar(a)\n",
        "\n",
        "# converting complex number into rectangular using rect()\n",
        "V = cmath.rect(3.605551275463989, 0.982793723247329)\n",
        "\n",
        "print (w)\n",
        "print (V)\n"
      ],
      "execution_count": null,
      "outputs": []
    },
    {
      "cell_type": "code",
      "metadata": {
        "id": "D9zXw7dfeuQG"
      },
      "source": [
        "# create a variable called break and assign it a value of 15. what is the response and find the reason behind the behaviour.  \n",
        "# break = 15 will give syntax error as the keywork break is system assigned and predefined"
      ],
      "execution_count": null,
      "outputs": []
    },
    {
      "cell_type": "code",
      "metadata": {
        "id": "fDPZ89vTmA3i"
      },
      "source": [
        "result =\"hello world\"\n",
        "print (result[0])\n",
        "\n",
        "# print \"result[0]\"  no paranthesis\n",
        "# print (\"result[0]\") result[0] as the variable is given inside double quotes\n",
        "# print (result[0]) h the 0th element of the string"
      ],
      "execution_count": null,
      "outputs": []
    },
    {
      "cell_type": "code",
      "metadata": {
        "id": "5sv7vl8_R3P5"
      },
      "source": [
        "# String operations \n",
        "# Write a program to get the name of the guest , then greet the user using their name as part of greeting \n",
        "# Sample Input \n",
        "# Enter the Guest Name: Writer Sudha Murthy \n",
        "# Sample Output \n",
        "# I am extremly hounor to welcome Sudha Murthy to ....... \n",
        "\n",
        "# Asking for the name of the guest and storing in name\n",
        "name = input (\"Enter the name of the guest: \\n\")\n",
        "\n",
        "# printing the greeting note with the name of the guest\n",
        "print(\"I am extremely honoured to welcome\", name, \"to .......\")"
      ],
      "execution_count": null,
      "outputs": []
    },
    {
      "cell_type": "code",
      "metadata": {
        "id": "EkN2V3BzTyYh"
      },
      "source": [
        "quotes  = \"Don't judge each day by the harvest you reap but by the seeds that\\\n",
        " you plant.\"\n",
        "\n",
        "# count the total number of characters in the variable quotes \n",
        "len (quotes)\n",
        "\n",
        "# convert the smaller case to upper case, upper case to smaller case \n",
        "print (quotes.swapcase())\n",
        "\n",
        "# check whether the numeric value is present or not \n",
        "print (quotes.isalnum())\n",
        "\n",
        "# Check whether the word \"harvest\" present in the string or not \n",
        "print (quotes.index(\"harvest\"))\n",
        "\n",
        "# replace the (.) with (!) \n",
        "print (quotes.replace(\".\", \"!\"))"
      ],
      "execution_count": null,
      "outputs": []
    },
    {
      "cell_type": "code",
      "metadata": {
        "id": "9xasXs-dWMTc"
      },
      "source": [
        "# Explore any 5 string build-in functions which is not discussed in the class\n",
        "# provide with suitable examples \n",
        "string = input (\"Enter the string for operations:\\n\")\n",
        "print (string.isprintable())\t#Returns True if all characters in the string are printable\n",
        "print (string.capitalize())\t#Converts the first character to upper case\n",
        "print (string.casefold())\t#Converts string into lower case\n",
        "print (string.isdigit())\t#Returns True if all characters in the string are digits\n",
        "print (string.isdecimal())\t#Returns True if all characters in the string are decimals"
      ],
      "execution_count": null,
      "outputs": []
    },
    {
      "cell_type": "code",
      "metadata": {
        "id": "vs0lRRDRtRFQ"
      },
      "source": [
        "num_int =55\n",
        "num_str =\"34\"\n",
        "\n",
        "int(num_str) # the type casted value is not stored to any variable\n",
        "#total = num_int + num_str #unsupported operand type(s) for +: 'int' and 'str'\n",
        "total = num_int + int(num_str) # type casting \"34\" to 34 only for the operation\n",
        "\n",
        "\n",
        "print (total)\n",
        "print (type(num_int))\n",
        "print (type(num_str))\n"
      ],
      "execution_count": null,
      "outputs": []
    },
    {
      "cell_type": "code",
      "metadata": {
        "id": "Rbq2VWPy4Hp-"
      },
      "source": [
        "#Find potential sources of runtime errors in this code snippet:\n",
        "import math\n",
        "\n",
        "dividend = float(input(\"Please enter the dividend: \"))\n",
        "divisor = float(input(\"Please enter the divisor: \"))\n",
        "\n",
        "quotient = dividend / divisor\n",
        "#quotient_rounded = math.round(quotient) # math.round does not exist round is built in function which has to be used without math.\n",
        "quotient_rounded = round(quotient)  # rounds of to higher integer value\n",
        "\n",
        "print (quotient_rounded)\n"
      ],
      "execution_count": null,
      "outputs": []
    },
    {
      "cell_type": "code",
      "metadata": {
        "id": "yNDpOmfoNZhD"
      },
      "source": [
        "# print the quotes : Don't judge each day by the harvest you reap but by the seeds that you plant.\n",
        "# Example for syntax Error \n",
        "\n",
        "# primt Don't judge each day by the harvest you reap but by the seeds that you plant  \n",
        "\n",
        "# Spelling error in print \n",
        "# Braces are missing \n",
        "# Quotes are missing\n",
        "\n",
        "\n",
        "print (\"Don't judge each day by the harvest you reap but by the seeds that you\\\n",
        " plant\")"
      ],
      "execution_count": null,
      "outputs": []
    },
    {
      "cell_type": "code",
      "metadata": {
        "id": "3PLbQJiLOhup"
      },
      "source": [
        "# print the Quotes :Don't judge each day by the harvest you reap but by the seeds that you plant.\n",
        "\n",
        "# Print ('Don't judge each day by the harvest you reap but by the seeds that you plant')\n",
        "\n",
        "# P is in uppercase\n",
        "# Since there is single inverted comma (apostrophe) in the quote, we should use double inverted comma in the beginning and end of the quote\n",
        "\n",
        "\n",
        "print (\"Don't judge each day by the harvest you reap but by the seeds that you\\ \n",
        "plant\")"
      ],
      "execution_count": null,
      "outputs": []
    },
    {
      "cell_type": "code",
      "metadata": {
        "id": "qG-UqL6yPvLY"
      },
      "source": [
        "# identify the error, label the type of error and correct the error \n",
        "\n",
        "#class =\"plant\" \n",
        "# Syntax error :  class is a predefined built in keyword used to define a class\\\n",
        "# hence it cannot be used as a variable\n",
        "# storing any value for class keyword is prohibited\n",
        "crop_class = \"plant\"\n",
        "\n",
        "#crop name =\"Brinjal\"\n",
        "# Syntax Error : space in variable name is prohibited\n",
        "crop_name = \"Brinjal\"\n",
        "\n",
        "\n",
        "# yeid = 20kg \n",
        "#IndentationError: unexpected indent\n",
        "#yeid = 20kg\n",
        "#SyntaxError: invalid syntax\n",
        "yeild_in_kg = 20\n",
        "\n",
        "# print name of the class, crop name and yeid \n",
        "\n",
        "print (\"Crop Class is:\", crop_class,\"\\nCrop name is:\",crop_name,\"\\nYield in \\\n",
        "kgs:\",yeild_in_kg)\n",
        "\n",
        "\n",
        "x=10\n",
        "#print (X)\n",
        "# NameError: name 'X' is not defined as x and X are different\n",
        "print(\"\\n\\nValue of x is\",x)\n",
        "# print the value of x \n"
      ],
      "execution_count": null,
      "outputs": []
    },
    {
      "cell_type": "code",
      "metadata": {
        "id": "y4KL5WaiL_h0"
      },
      "source": [
        "# Find the errors in the coding and correct \n",
        "# formula to convert centrigrade to fahr\n",
        "\n",
        "\n",
        "C = 21; F = 9/5*C + 32\n",
        "\n",
        "#C = 21.0; F = (9/5)*C + 3 #logical error 9/5 * c + 32 and in here only + 3 is used\n",
        "C = 21.0; F = (9/5)*C + 32\n"
      ],
      "execution_count": null,
      "outputs": []
    },
    {
      "cell_type": "code",
      "metadata": {
        "id": "OEGKfzBuMe5b"
      },
      "source": [
        "#Explain why the code is not working \n",
        "\n",
        "#c= a+ b \n",
        "#a =10 \n",
        "#b = 5 \n",
        "\n",
        "# In the above code snipped the error is Name error\n",
        "# The variables a and b are defined after the call for the variable\n",
        "# Calling the variables after the declaration eliminates the error\n",
        "\n",
        "a =10 \n",
        "b = 5\n",
        "c= a+ b \n",
        "\n",
        "print(c) "
      ],
      "execution_count": null,
      "outputs": []
    },
    {
      "cell_type": "code",
      "metadata": {
        "id": "GeVaIE5lK6Xk"
      },
      "source": [
        "# Find the bugs in the below code, correct the mistakes and comment suggestions \n",
        "from math import pi\n",
        "h = 5.0 # height\n",
        "B = 2.0 # base\n",
        "# r = 1.5 radius\n",
        "#NameError: name 'r' is not defined\n",
        "r = 1.5 #radius\n",
        "\n",
        "area_parallelogram = h*b\n",
        "#  print 'The area of the parallelogram is %.3f' % area_parallelgram \n",
        "#indentation error  unexpected indent\n",
        "#SyntaxError: Missing parentheses in call to 'print'.\n",
        "#NameError: name 'area_parallelgram' is not defined\n",
        "print ('The area of the parallelogram is %.3f' % area_parallelogram)\n",
        "\n",
        "\n",
        "area_square = b**2\n",
        "#  print 'The area of the square is %g' % area_square \n",
        "#indentation error  unexpected indent\n",
        "#SyntaxError: Missing parentheses in call to 'print'.\n",
        "print ('The area of the square is %g' % area_square)\n",
        "\n",
        "\n",
        "area_circle = pi*r**2\n",
        "#  print 'The area of the circle is %.3f' % area_circle \n",
        "#indentation error  unexpected indent\n",
        "#SyntaxError: Missing parentheses in call to 'print'.\n",
        "print ('The area of the circle is %.3f' % area_circle)\n",
        "\n",
        "\n",
        "volume_cone = 1.0/3*pi*r**2*h\n",
        "#  print 'The volume of the cone is %.3f' % volume_cone \n",
        "#indentation error  unexpected indent\n",
        "#SyntaxError: Missing parentheses in call to 'print'.\n",
        "print ('The volume of the cone is %.3f' % volume_cone)"
      ],
      "execution_count": null,
      "outputs": []
    },
    {
      "cell_type": "code",
      "metadata": {
        "id": "o5pap43SGS_9"
      },
      "source": [
        "# This code shows the use math module \n",
        "# Run time error and Logical Error \n",
        "\n",
        "from math import sin\n",
        "r= sin(c)\n",
        "\n",
        "x=2.4\n",
        "y = 2.5 + 3j\n",
        "y_new = abs(y)\n",
        "#print(y_New)\n",
        "# NameError: name 'y_New' is not defined declared variable is y_new\n",
        "print(y_new)\n",
        "\n",
        "math.sin(x)\n",
        "#math.sin(y)\n",
        "# TypeError: can't convert complex to float have to use y_new\n",
        "math.sin(y_new)"
      ],
      "execution_count": null,
      "outputs": []
    },
    {
      "cell_type": "code",
      "metadata": {
        "id": "YI47Zx77kag2"
      },
      "source": [
        "print(\"Hello, World!\")\n",
        "#print(5 + \n",
        "# SyntaxError: unexpected EOF while parsing      \n",
        "print (5 + 5)\n",
        "print(\"All finished!\")"
      ],
      "execution_count": null,
      "outputs": []
    },
    {
      "cell_type": "code",
      "metadata": {
        "id": "1BsRwEjLqSxE"
      },
      "source": [
        "# Print the statement, Kindly help me!\n",
        "#print \"Kindly help me!\"\n",
        "# SyntaxError: Missing parentheses in call to 'print'.\n",
        "print (\"Kindly help me!\")"
      ],
      "execution_count": null,
      "outputs": []
    },
    {
      "cell_type": "code",
      "metadata": {
        "id": "0hlQygpy9Nto"
      },
      "source": [
        "# print the value of the course \n",
        "course = \"Programming with Python\"\n",
        "print (\"course\") #line 1 of output\n",
        "# Using the variable name course inside quotes makes it a string\n",
        "print (course)"
      ],
      "execution_count": null,
      "outputs": []
    },
    {
      "cell_type": "code",
      "metadata": {
        "id": "ta5XT3nWbX5D"
      },
      "source": [
        ""
      ],
      "execution_count": null,
      "outputs": []
    },
    {
      "cell_type": "code",
      "metadata": {
        "id": "KRQbpCioCZmv"
      },
      "source": [
        "#store the size of the land in the variable size  in square feet \n",
        "size = 200 \n",
        "#store the income as in\n",
        "#in= 9000 \n",
        "# cant use as it is system defined keyword should alter the keyword\n",
        "in_ = 9000\n",
        "#print the value of  both size and income \n",
        "print (\"Size of the land in square feet: \",size,\"\\nIncome: \",in_)\n",
        "\n",
        "cropName=\"Drumstick\"\n",
        "#year@2021 = 'Drumstick'\n",
        "#SyntaxError: can't assign to operator '@' should not be present in a variable name\n",
        "year_2021 = 'Drumstick'\n",
        "print (cropName)\n",
        "print (year_2021)"
      ],
      "execution_count": null,
      "outputs": []
    },
    {
      "cell_type": "code",
      "metadata": {
        "id": "AwZuxqIoEJVV"
      },
      "source": [
        "#print ('Don't eat those cookies before dinner.') #SyntaxError: invalid syntax  Double quotes to be used\n",
        "print (\"Don't eat those cookies before dinner.\")"
      ],
      "execution_count": null,
      "outputs": []
    },
    {
      "cell_type": "code",
      "metadata": {
        "id": "l9ymjrwAcGE7"
      },
      "source": [
        "#print ('Hello \\t \\t \\t world ) #SyntaxError: EOL while scanning string literal quotes not ending\n",
        "\n",
        "print ('Hello \\t \\t \\t world')"
      ],
      "execution_count": null,
      "outputs": []
    },
    {
      "cell_type": "code",
      "metadata": {
        "id": "6zLCndnBhJkF"
      },
      "source": [
        "#print ('I like Python Programming!\") #SyntaxError: EOL while scanning string literal Mismatched type of quotes\n",
        "print ('I like Python Programming!')"
      ],
      "execution_count": null,
      "outputs": []
    },
    {
      "cell_type": "code",
      "metadata": {
        "id": "p3CqLQsAhS7o"
      },
      "source": [
        "#print (\"The first program in any programming language is \"Hello World\".\") #SyntaxError: invalid syntax Required used of trile quote marks as there is double quote in the sentence\n",
        "print (\"\"\"The first program in any programming language is \"Hello World\".\"\"\")"
      ],
      "execution_count": null,
      "outputs": []
    },
    {
      "cell_type": "code",
      "metadata": {
        "id": "y2bSAfLTcNw8"
      },
      "source": [
        "#print (cropname) # NameError: name 'cropname' is not defined \n",
        "#either define the variable or use quote marks if the word has to be printed\n",
        "print(\"cropname\")\n",
        "\n",
        "cropname = \"Tomato\"\n",
        "print (cropname)"
      ],
      "execution_count": null,
      "outputs": []
    },
    {
      "cell_type": "code",
      "metadata": {
        "id": "naQO1yYtelji"
      },
      "source": [
        "# find the bug\n",
        "# 1/2 #IndentationError: unexpected indent\n",
        "1/2\n"
      ],
      "execution_count": null,
      "outputs": []
    },
    {
      "cell_type": "code",
      "metadata": {
        "id": "ww59VvltfTN6"
      },
      "source": [
        "profit = 1000\n",
        "#increment profit by 1\n",
        "#profit++ #SyntaxError: invalid syntax ++  is not valid in python should use +=\n",
        "profit += 1\n",
        "print (profit)"
      ],
      "execution_count": null,
      "outputs": []
    },
    {
      "cell_type": "code",
      "metadata": {
        "id": "cK7zIHHyizeI"
      },
      "source": [
        "import math\n",
        "#print log(10) #SyntaxError: invalid syntax should use math.log to call the function \n",
        "# paranthesis is missing in print statement\n",
        "print (math.log(10))"
      ],
      "execution_count": null,
      "outputs": []
    },
    {
      "cell_type": "code",
      "metadata": {
        "id": "kVuiqskDjy5L"
      },
      "source": [
        "#print math.sin(2) #SyntaxError: invalid syntax  #missing paranthesis\n",
        "print (math.sin(2))"
      ],
      "execution_count": null,
      "outputs": []
    },
    {
      "cell_type": "code",
      "metadata": {
        "id": "c-ad-Nzrq77u"
      },
      "source": [
        "num_int =55\n",
        "num_str =\"34\"\n",
        "#total = num_int + num_str #TypeError: unsupported operand type(s) for +: 'int' and 'str' \n",
        "#should type convert\n",
        "total = num_int + int(num_str) # for operation\n",
        "print (type(num_str))\n",
        "\n",
        "num_str = int (num_str) # for type casting the variable\n",
        "\n",
        "print (total)\n",
        "print (type(num_int))\n",
        "print (type(num_str))\n"
      ],
      "execution_count": null,
      "outputs": []
    },
    {
      "cell_type": "code",
      "metadata": {
        "id": "jPjjyFnttQmk"
      },
      "source": [
        "# Trying to print the multiplication entry, but it throws error \n",
        "#5*6 =30 \n",
        "#SyntaxError: can't assign to operator \n",
        "# Above snippet has assignment operator to a validation statement\n",
        "5*6 == 30\n",
        "\n"
      ],
      "execution_count": null,
      "outputs": []
    },
    {
      "cell_type": "code",
      "metadata": {
        "id": "3BbHIDfm9m8Z"
      },
      "source": [
        "# Trying to find the round of 10.2 \n",
        "#round 10.2 #SyntaxError: invalid syntax \n",
        "round (10.2) # Appropriate syntax"
      ],
      "execution_count": null,
      "outputs": []
    },
    {
      "cell_type": "code",
      "metadata": {
        "id": "JgPti3XH905j"
      },
      "source": [
        "#round(\"10.2\") #TypeError: type str doesn't define __round__ method \n",
        "# round() uses only float input\n",
        "round (10.2)"
      ],
      "execution_count": null,
      "outputs": []
    },
    {
      "cell_type": "code",
      "metadata": {
        "id": "SNu9AoTc96rR"
      },
      "source": [
        "# Trying to calculate 2 to the power of 5 \n",
        "\n",
        "#pow(2**5) #TypeError: pow expected at least 2 arguments, got 1\n",
        "#either should use\n",
        "2**5\n",
        "#or\n",
        "pow(2,5)"
      ],
      "execution_count": null,
      "outputs": []
    },
    {
      "cell_type": "code",
      "metadata": {
        "id": "RYI_-mCi_uhB"
      },
      "source": [
        "#Trying to multiply 5 \n",
        "#5 X 5  # SyntaxError: invalid syntax\n",
        "#for multiplication use *\n",
        "5*5"
      ],
      "execution_count": null,
      "outputs": []
    },
    {
      "cell_type": "code",
      "metadata": {
        "id": "nBbRBfMb9JOs"
      },
      "source": [
        "# Trying to print the text message Hello \n",
        "\n",
        "#Hello  #NameError: name 'Hello' is not defined\n",
        "#print statement is not used to get the output\n",
        "print(\"Hello\")"
      ],
      "execution_count": null,
      "outputs": []
    },
    {
      "cell_type": "code",
      "metadata": {
        "id": "79e4eQ0RbY4U"
      },
      "source": [
        "#store the size of the land in the variable size  in square feet \n",
        "size = 200 \n",
        "#store the income as in\n",
        "#in= 9000 \n",
        "# cant use as it is system defined keyword should alter the keyword\n",
        "in_ = 9000\n",
        "#print the value of  both size and income \n",
        "print (\"Size of the land in square feet: \",size,\"\\nIncome: \",in_)\n",
        "\n",
        "cropName=\"Drumstick\"\n",
        "#year@2021 = 'Drumstick'\n",
        "#SyntaxError: can't assign to operator '@' should not be present in a variable name\n",
        "year_2021 = 'Drumstick'\n",
        "print (cropName)\n",
        "print (year_2021)"
      ],
      "execution_count": null,
      "outputs": []
    }
  ]
}