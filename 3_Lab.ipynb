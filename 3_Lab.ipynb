{
  "nbformat": 4,
  "nbformat_minor": 0,
  "metadata": {
    "colab": {
      "name": "3_Lab",
      "provenance": [],
      "collapsed_sections": [],
      "authorship_tag": "ABX9TyN3T8W5uzs/1iu27EsYGjRM",
      "include_colab_link": true
    },
    "kernelspec": {
      "name": "python3",
      "display_name": "Python 3"
    },
    "language_info": {
      "name": "python"
    }
  },
  "cells": [
    {
      "cell_type": "markdown",
      "metadata": {
        "id": "view-in-github",
        "colab_type": "text"
      },
      "source": [
        "<a href=\"https://colab.research.google.com/github/nesara-ganesh/Fastrack-Python/blob/main/3_Lab.ipynb\" target=\"_parent\"><img src=\"https://colab.research.google.com/assets/colab-badge.svg\" alt=\"Open In Colab\"/></a>"
      ]
    },
    {
      "cell_type": "markdown",
      "metadata": {
        "id": "7dc3t3xu9EUL"
      },
      "source": [
        "**3_Lab**\n",
        "\n",
        "---\n",
        "\n",
        "\n",
        "\n",
        "Instructions:\n",
        "\n",
        "Explore different function calls associated with each data types (Min 10 for each dat types) other than covered in class. \n",
        "Create code snippet for each operation on data type."
      ]
    },
    {
      "cell_type": "markdown",
      "metadata": {
        "id": "m7BBaBiJ9YUw"
      },
      "source": [
        "Integer"
      ]
    },
    {
      "cell_type": "code",
      "metadata": {
        "id": "aaKQlwXI8_sl"
      },
      "source": [
        "dir (int)"
      ],
      "execution_count": null,
      "outputs": []
    },
    {
      "cell_type": "code",
      "metadata": {
        "id": "G7zTDdQ89uXi"
      },
      "source": [
        "a = int (input (\"Enter the first number: \\n\"))\n",
        "b = int (input (\"Enter the second number: \\n\"))\n",
        "\n",
        "print (type (a),\"\\n\",type(b))\n",
        "\n",
        "print (pow (a, b)) #power function a raised to pwer of b\n",
        "print (abs (a)) # absolute value function prints the absolute value of a\n",
        "print (a.bit_length())\n",
        "print (\"Number in hexadecimal is: \",hex (a))\n",
        "print (\"Number in Octal is: \",oct (a))\n",
        "\n",
        "c =str (a)\n",
        "print (type (c), c)\n",
        "\n",
        "d = float(a)\n",
        "print (type (d), d)\n",
        "\n",
        "import sys\n",
        "print (\"Size of integer variable is :\",sys.getsizeof(a))\n",
        "\n",
        "\n",
        "\n",
        "\n",
        "\n"
      ],
      "execution_count": null,
      "outputs": []
    },
    {
      "cell_type": "markdown",
      "metadata": {
        "id": "Rfg8-sCJAYTx"
      },
      "source": [
        "Strings"
      ]
    },
    {
      "cell_type": "code",
      "metadata": {
        "id": "2ZXbyZogAX6p"
      },
      "source": [
        "dir (str)"
      ],
      "execution_count": null,
      "outputs": []
    },
    {
      "cell_type": "code",
      "metadata": {
        "id": "i2WCK_yIAdvh"
      },
      "source": [
        "quote = input (\"Enter the string to operate on: \\n\")\n",
        "\n",
        "print (quote.capitalize())\n",
        "print (quote.format())\n",
        "print (quote.lower())\n",
        "print (quote.upper())\n",
        "print (quote.swapcase())\n",
        "print (quote.title())\n",
        "\n",
        "print (\"\\nIs all alphanumeric: \",quote.isalnum())\n",
        "print (\"Is printable: \",quote.isprintable())\n",
        "print (\"Is spaces: \",quote.isspace())\n",
        "print (\"Is title: \",quote.istitle())\n",
        "print (\"Is digit: \",quote.isdigit())\n",
        "print (\"Is numeric: \",quote.isnumeric())\n",
        "print (\"Is ASCII: \",quote.isascii())\n",
        "\n",
        "find = input (\"\\nEnter the character to find\\n\")\n",
        "replace = input (\"\\nEnter the character to replace with:\\n\")\n",
        "print (\"Number of selected objects found: \",quote.count(find))\n",
        "print (\"First instance of finding the object: \",quote.find(find))\n",
        "print (quote.replace(find, replace))\n",
        "\n",
        "print (quote * 2)\n",
        "\n",
        "print (\"Length of given string is :\",len(quote))\n",
        "import sys\n",
        "print (\"Size of given string is :\",sys.getsizeof(quote))"
      ],
      "execution_count": null,
      "outputs": []
    },
    {
      "cell_type": "markdown",
      "metadata": {
        "id": "k3u1X_23FefZ"
      },
      "source": [
        "Float"
      ]
    },
    {
      "cell_type": "code",
      "metadata": {
        "id": "fSCBEgO5FcRK"
      },
      "source": [
        "dir (float)"
      ],
      "execution_count": null,
      "outputs": []
    },
    {
      "cell_type": "code",
      "metadata": {
        "id": "zrFgy_w2Fq26"
      },
      "source": [
        "a = float (input (\"Enter the first floating number: \\n\"))\n",
        "b = float (input (\"Enter the second floating number: \\n\"))\n",
        "\n",
        "print (type (a),\"\\n\",type(b))\n",
        "\n",
        "print (pow (a, b)) #power function a raised to pwer of b\n",
        "\n",
        "print (abs (a)) # absolute value function prints the absolute value of a\n",
        "\n",
        "c =str (a)\n",
        "print (type (c), c)\n",
        "\n",
        "d = int(a)\n",
        "print (type (d), d)\n",
        "\n",
        "decimal_points = int(input(\"Enter the number of decimal points to display:\\n\"))\n",
        "print (round(a ,decimal_points))\n",
        "\n",
        "import sys\n",
        "print (\"Size of floating variable is :\",sys.getsizeof(a))\n",
        "\n",
        "\n"
      ],
      "execution_count": null,
      "outputs": []
    },
    {
      "cell_type": "markdown",
      "metadata": {
        "id": "d15akyq2Obud"
      },
      "source": [
        "Tuple"
      ]
    },
    {
      "cell_type": "code",
      "metadata": {
        "id": "WLAR2RNDOkU0"
      },
      "source": [
        "dir (tuple)"
      ],
      "execution_count": null,
      "outputs": []
    },
    {
      "cell_type": "code",
      "metadata": {
        "colab": {
          "base_uri": "https://localhost:8080/"
        },
        "id": "284ymhOePMe0",
        "outputId": "975131c5-aa04-4829-b613-cfd0ac646434"
      },
      "source": [
        "import sys\n",
        "tp1 = 1, 2, 3, 4, 5, 3, 4, 3,(3, 5) \n",
        "\n",
        "print (\"Index of the given element in tuple:\\t\",tp1.index(3))\n",
        "print (\"Count of the given element in tuple:\\t\",tp1.count(3))\n",
        "print (\"String of the tuple:\\t\",str (tp1))\n",
        "print (\"Length of the tuple:\\t\",len (tp1) )\n",
        "print (\"Memory size of the given tuple:\\t\",sys.getsizeof(tp1))\n"
      ],
      "execution_count": 61,
      "outputs": [
        {
          "output_type": "stream",
          "name": "stdout",
          "text": [
            "Index of the given element in tuple:\t 2\n",
            "Count of the given element in tuple:\t 3\n",
            "String of the tuple:\t (1, 2, 3, 4, 5, 3, 4, 3, (3, 5))\n",
            "Length of the tuple:\t 9\n",
            "Memory size of the given tuple:\t 128\n"
          ]
        }
      ]
    },
    {
      "cell_type": "markdown",
      "metadata": {
        "id": "mNFFxmLXOc9t"
      },
      "source": [
        "List"
      ]
    },
    {
      "cell_type": "code",
      "metadata": {
        "id": "Vzj_3RofOqh0"
      },
      "source": [
        "dir (list)"
      ],
      "execution_count": null,
      "outputs": []
    },
    {
      "cell_type": "code",
      "metadata": {
        "id": "y5mUCXZyTpbZ"
      },
      "source": [
        "tp = 1, 3, 2, 4\n",
        "l = list(tp)\n",
        "l1 = l.copy()\n",
        "print(\"Original list:\\t\",l)\n",
        "print(\"Copied list:\\t\",l1)\n",
        "l.append(5)\n",
        "print(\"Appended list:\\t\",l)\n",
        "l.reverse()\n",
        "print(\"Appended list:\\t\",l)\n",
        "l1.clear()\n",
        "print(\"Cleared list:\\t\",l1)\n",
        "print(\"Count of given item in list:\\t\",l.count(5))\n",
        "l1.extend(l)\n",
        "print(\"Extended list:\\t\",l1)\n",
        "print(\"Index of gien item in list:\\t\",l.index(2))\n",
        "l.insert(0,6)\n",
        "print(\"Insert to list list:\\t\",l)\n",
        "l.reverse()\n",
        "print(\"Reerse list:\\t\",l)\n",
        "l.pop(4)\n",
        "print(\"Pop the given element off the list:\\t\",l)\n",
        "l.remove(4)\n",
        "print(\"Remove the element in the given location of the list:\\t\",l)\n",
        "l.sort()\n",
        "print(\"Sort list:\\t\",l)"
      ],
      "execution_count": null,
      "outputs": []
    },
    {
      "cell_type": "markdown",
      "metadata": {
        "id": "sWW-WOlMOekN"
      },
      "source": [
        "Dictionary"
      ]
    },
    {
      "cell_type": "code",
      "metadata": {
        "id": "SFPkCKGwOtVu"
      },
      "source": [
        "dir (dict)"
      ],
      "execution_count": null,
      "outputs": []
    },
    {
      "cell_type": "code",
      "metadata": {
        "id": "4bMy8-4iY0qY",
        "colab": {
          "base_uri": "https://localhost:8080/"
        },
        "outputId": "7bd21c6d-193b-43ab-fd1f-1c48b03c0b28"
      },
      "source": [
        "\n",
        "dictionary = {\"brand\": \"Ford\",\n",
        "              \"model\": \"Mustang\",\n",
        "  \"electric\": False,\n",
        "  \"year\": 1964,\n",
        "  \"colors\": [\"red\", \"white\", \"blue\"]}\n",
        "\n",
        "\n",
        "d1 = dictionary.copy()\n",
        "print (d1)\n",
        "\n",
        "s = str (dictionary)\n",
        "print(\"String form of dictionary:\\t\",s)\n",
        "\n",
        "x = dictionary.items()\n",
        "print(\"Items of dictionary:\\t\",x)\n",
        "\n",
        "y = dictionary.keys()\n",
        "print(\"Keys of dictionary:\\t\",y)\n",
        "\n",
        "z = dictionary.values()\n",
        "print(\"Values of dictionary:\\t\",z)\n",
        "\n",
        "w = dictionary.get(\"model\")\n",
        "print(\"Get model:\\t\",w)\n",
        "\n",
        "v = dictionary.setdefault(\"model\", \"Fiesta\")\n",
        "print(\"Set default model:\\t\",v)\n",
        "u = dictionary.setdefault(\"transmission\", \"manual\")\n",
        "print(\"Set default transmission:\\t\",u)\n",
        "\n",
        "\n",
        "\n",
        "t1 = \"First\", \"Second\", \"Third\"\n",
        "t2 = \"A\", \"B\", \"C\"\n",
        "thisdict = dict.fromkeys(t1, t2[1])\n",
        "print(\"Dictionary v=created from keys:\\t\",thisdict)\n",
        "\n",
        "thisdict.pop(\"Second\")\n",
        "print(\"Pop a given key off ditionary:\\t\",thisdict)\n",
        "\n",
        "thisdict.popitem()\n",
        "print(\"Pop off a key off dictionary:\\t\",thisdict)\n",
        "\n",
        "thatdict = {\"Fourth\": \"D\"}\n",
        "thisdict.update(thatdict)\n",
        "print (\"Updated dictionary:\\t\",thisdict)\n",
        "\n",
        "\n",
        "\n",
        "print(\"cleared disctionary:\\t\",dictionary.clear())\n",
        "print(thisdict.clear())\n"
      ],
      "execution_count": 57,
      "outputs": [
        {
          "output_type": "stream",
          "name": "stdout",
          "text": [
            "{'brand': 'Ford', 'model': 'Mustang', 'electric': False, 'year': 1964, 'colors': ['red', 'white', 'blue']}\n",
            "String form of dictionary:\t {'brand': 'Ford', 'model': 'Mustang', 'electric': False, 'year': 1964, 'colors': ['red', 'white', 'blue']}\n",
            "Items of dictionary:\t dict_items([('brand', 'Ford'), ('model', 'Mustang'), ('electric', False), ('year', 1964), ('colors', ['red', 'white', 'blue'])])\n",
            "Keys of dictionary:\t dict_keys(['brand', 'model', 'electric', 'year', 'colors'])\n",
            "Values of dictionary:\t dict_values(['Ford', 'Mustang', False, 1964, ['red', 'white', 'blue']])\n",
            "Get model:\t Mustang\n",
            "Set default model:\t Mustang\n",
            "Set default transmission:\t manual\n",
            "Dictionary v=created from keys:\t {'First': 'B', 'Second': 'B', 'Third': 'B'}\n",
            "Pop a given key off ditionary:\t {'First': 'B', 'Third': 'B'}\n",
            "Pop off a key off dictionary:\t {'First': 'B'}\n",
            "Updated dictionary:\t {'First': 'B', 'Fourth': 'D'}\n",
            "cleared disctionary:\t None\n",
            "None\n"
          ]
        }
      ]
    },
    {
      "cell_type": "markdown",
      "metadata": {
        "id": "TSBxiklpOh-N"
      },
      "source": [
        "Set"
      ]
    },
    {
      "cell_type": "code",
      "metadata": {
        "id": "BfX4l8eHOwIM"
      },
      "source": [
        "dir (set)"
      ],
      "execution_count": null,
      "outputs": []
    },
    {
      "cell_type": "code",
      "metadata": {
        "colab": {
          "base_uri": "https://localhost:8080/"
        },
        "id": "gnwwTbd4fWi-",
        "outputId": "ef21f9ef-3d2d-4365-d07f-92f05643c8ef"
      },
      "source": [
        "set1 = {\"M\", \"S\", \"I\", \"O\"}\n",
        "set3 = {\"M\", \"S\", \"I\",\"N\"}\n",
        "A = {10, 20, 30, 40, 80}\n",
        "B = {100, 30, 80, 40, 60}\n",
        "C = {10, 20, 30, 40, 80, 20}\n",
        "\n",
        "\n",
        "print(\"set1 is:\\t\",set1)\n",
        "print(\"set3 is:\\t\",set3)\n",
        "print(\"A is:\\t\",A)\n",
        "print(\"B is:\\t\",B)\n",
        "print(\"C is:\\t\",C)\n",
        "\n",
        "\n",
        "set1.add(\"MAHE\")\n",
        "print(\"\\n\\nAdd to set:\\t\",set1)\n",
        "\n",
        "set2 = set1.copy()\n",
        "print(\"Copied Set:\\t\",set2)\n",
        "\n",
        "set1.clear()\n",
        "print (\"Clear:\\t\",set1)\n",
        "\n",
        "print(\"A - B:\\t\",A.difference(B))\n",
        "print(\"B - A:\\t\",B.difference(A))\n",
        "print(\"Union:\\t\",A.union(B))\n",
        "print(\"Intersection:\\t\",A.intersection(B))\n",
        " \n",
        "A.difference_update(B) # Modifies A and returns None\n",
        "print (\"Difference Update:\\t\",A)\n",
        "\n",
        "A = {10, 20, 30, 40, 80}\n",
        "B = {100, 30, 80, 40, 60}\n",
        "A.intersection_update(B)\n",
        "print (\"Intersection Update:\\t\",A)\n",
        "\n",
        "\n",
        "\n",
        "C.discard(10)\n",
        "print(\"Discard:\\t\",C)\n",
        "C.remove(20)\n",
        "print(\"Remove:\\t\",C)\n",
        "C.pop()\n",
        "print(\"Pop:\\t\",C)\n",
        "C.update(set3)\n",
        "print(\"Update set:\\t\", C)\n",
        "\n",
        "print(\"set3 is subset of C:\\t\",set3.issubset(C))\n",
        "print(\"C is superset of set3:\\t\", C.issuperset(set3))\n"
      ],
      "execution_count": 56,
      "outputs": [
        {
          "output_type": "stream",
          "name": "stdout",
          "text": [
            "set1 is:\t {'M', 'I', 'O', 'S'}\n",
            "set3 is:\t {'N', 'M', 'I', 'S'}\n",
            "A is:\t {40, 10, 80, 20, 30}\n",
            "B is:\t {100, 40, 80, 60, 30}\n",
            "C is:\t {40, 10, 80, 20, 30}\n",
            "\n",
            "\n",
            "Add to set:\t {'S', 'MAHE', 'M', 'I', 'O'}\n",
            "Copied Set:\t {'MAHE', 'M', 'S', 'O', 'I'}\n",
            "Clear:\t set()\n",
            "A - B:\t {10, 20}\n",
            "B - A:\t {100, 60}\n",
            "Union:\t {100, 40, 10, 80, 20, 60, 30}\n",
            "Intersection:\t {40, 80, 30}\n",
            "Difference Update:\t {10, 20}\n",
            "Intersection Update:\t {40, 80, 30}\n",
            "Discard:\t {40, 80, 20, 30}\n",
            "Remove:\t {40, 80, 30}\n",
            "Pop:\t {80, 30}\n",
            "Update set:\t {'S', 80, 'M', 'I', 'N', 30}\n",
            "set3 is subset of C:\t True\n",
            "C is superset of set3:\t True\n"
          ]
        }
      ]
    }
  ]
}